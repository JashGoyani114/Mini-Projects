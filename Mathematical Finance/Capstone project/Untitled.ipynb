{
 "cells": [
  {
   "cell_type": "code",
   "execution_count": 42,
   "id": "a6df075f",
   "metadata": {},
   "outputs": [],
   "source": [
    "def findPayment(loan, r, m):\n",
    "    # Assumes: loan and r are floats, m an int \n",
    "    # Returns the monthly payment for a mortgage of size loan at a monthly rate of r for m months\"\"\"\n",
    "    return loan*((r*(1+r)**m)/((1+r)**m - 1))"
   ]
  },
  {
   "cell_type": "code",
   "execution_count": 43,
   "id": "802315b7",
   "metadata": {},
   "outputs": [],
   "source": [
    "class Mortgage(object):\n",
    "# \"\"\"Abstract class for building different kinds of mortgages\"\"\"\n",
    "    def __init__(self, loan, annRate, months):\n",
    "        #\"\"\"Create a new mortgage, initialised by value returned by function findPayment\"\"\"\n",
    "        self.loan = loan\n",
    "        self.rate = annRate/12.0\n",
    "        self.months = months\n",
    "        self.paid = [0.0]\n",
    "        self.owed = [loan]\n",
    "        self.payment = findPayment(loan, self.rate, months)\n",
    "        self.legend = None #description of mortgage\n",
    "    def makePayment(self):\n",
    "        # \"\"\"Make a payment\"\"\"\n",
    "        self.paid.append(self.payment)\n",
    "        reduction = self.payment - self.owed[-1]*self.rate\n",
    "        self.owed.append(self.owed[-1] - reduction)\n",
    "    def getTotalPaid(self):\n",
    "        #\"\"\"Return the total amount paid so far\"\"\"\n",
    "        return sum(self.paid)\n",
    "    def __str__(self):\n",
    "        return self.legend"
   ]
  },
  {
   "cell_type": "code",
   "execution_count": 45,
   "id": "6c2df97b",
   "metadata": {},
   "outputs": [],
   "source": [
    "# Classes for calculating TYPE 1 and TYPE 2\n",
    "class Fixed(Mortgage):# Inheriting mortgage class\n",
    "    def __init__(self, loan, r, months):\n",
    "        Mortgage.__init__(self, loan, r, months)\n",
    "        self.legend = 'Fixed, ' + str(r*100) + '%'\n",
    "class FixedWithPts(Mortgage):## Inheriting mortgage class\n",
    "    def __init__(self, loan, r, months, pts):\n",
    "        Mortgage.__init__(self, loan, r, months)\n",
    "        self.pts = pts\n",
    "        self.paid = [loan*(pts/100.0)]\n",
    "        self.legend = 'Fixed, ' + str(r*100) + '%, '\\\n",
    "        + str(pts) + ' points'"
   ]
  },
  {
   "cell_type": "code",
   "execution_count": 41,
   "id": "e0e24c50",
   "metadata": {},
   "outputs": [
    {
     "name": "stdout",
     "output_type": "stream",
     "text": [
      "Fixed, 7.000000000000001%\n",
      " Total payments = Rs 2395088\n",
      "Fixed, 7.000000000000001%, 10 points\n",
      " Total payments = Rs 2495088\n"
     ]
    }
   ],
   "source": [
    "def compareMortgages(amt, years, fixedRate, pts, ptsRate):\n",
    "    totMonths = years*12\n",
    "    fixed1 = Fixed(amt, fixedRate, totMonths)\n",
    "    fixed2 = FixedWithPts(amt, ptsRate, totMonths, pts)\n",
    "\n",
    "    morts = [fixed1, fixed2]\n",
    "    for m in range(totMonths):\n",
    "        for mort in morts:\n",
    "            mort.makePayment()\n",
    "    for m in morts:\n",
    "        print (m)\n",
    "        print (' Total payments = Rs ' + str(int(m.getTotalPaid())))\n",
    "\n",
    "compareMortgages(amt=1000000, years=30, fixedRate=0.07,pts = 10, ptsRate=0.07)"
   ]
  },
  {
   "cell_type": "code",
   "execution_count": null,
   "id": "531344b0",
   "metadata": {},
   "outputs": [],
   "source": []
  }
 ],
 "metadata": {
  "kernelspec": {
   "display_name": "Python 3 (ipykernel)",
   "language": "python",
   "name": "python3"
  },
  "language_info": {
   "codemirror_mode": {
    "name": "ipython",
    "version": 3
   },
   "file_extension": ".py",
   "mimetype": "text/x-python",
   "name": "python",
   "nbconvert_exporter": "python",
   "pygments_lexer": "ipython3",
   "version": "3.10.4"
  }
 },
 "nbformat": 4,
 "nbformat_minor": 5
}
